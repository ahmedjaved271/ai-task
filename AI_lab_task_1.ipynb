{
  "nbformat": 4,
  "nbformat_minor": 0,
  "metadata": {
    "colab": {
      "provenance": []
    },
    "kernelspec": {
      "name": "python3",
      "display_name": "Python 3"
    },
    "language_info": {
      "name": "python"
    }
  },
  "cells": [
    {
      "cell_type": "code",
      "source": [
        "!git clone https://github.com/ahmedjaved271/ai-task.git"
      ],
      "metadata": {
        "id": "8BimTHxjrnjL",
        "colab": {
          "base_uri": "https://localhost:8080/"
        },
        "outputId": "929d69af-ad65-44cf-d7e9-f212070657c8"
      },
      "execution_count": 3,
      "outputs": [
        {
          "output_type": "stream",
          "name": "stdout",
          "text": [
            "fatal: destination path 'ai-task' already exists and is not an empty directory.\n"
          ]
        }
      ]
    },
    {
      "cell_type": "code",
      "execution_count": 1,
      "metadata": {
        "colab": {
          "base_uri": "https://localhost:8080/"
        },
        "id": "26iZkQY4bgY8",
        "outputId": "2af416e6-c179-499e-8530-2703d181e106"
      },
      "outputs": [
        {
          "output_type": "stream",
          "name": "stdout",
          "text": [
            "No task in list\n",
            "press 1 for Add task\n",
            "press 2 for Remove task\n",
            "press 3 for Clear task\n",
            "press 4 for Exit\n",
            "Enter your choice: 1\n",
            "Enter your taskLab task 1\n",
            "0.Lab task 1\n",
            "press 1 for Add task\n",
            "press 2 for Remove task\n",
            "press 3 for Clear task\n",
            "press 4 for Exit\n",
            "Enter your choice: 1\n",
            "Enter your taskLab task 2\n",
            "0.Lab task 1\n",
            "1.Lab task 2\n",
            "press 1 for Add task\n",
            "press 2 for Remove task\n",
            "press 3 for Clear task\n",
            "press 4 for Exit\n",
            "Enter your choice: Lab task 3\n",
            "invalid choice, please Try again\n",
            "0.Lab task 1\n",
            "1.Lab task 2\n",
            "press 1 for Add task\n",
            "press 2 for Remove task\n",
            "press 3 for Clear task\n",
            "press 4 for Exit\n",
            "Enter your choice: Lab task 4\n",
            "invalid choice, please Try again\n",
            "0.Lab task 1\n",
            "1.Lab task 2\n",
            "press 1 for Add task\n",
            "press 2 for Remove task\n",
            "press 3 for Clear task\n",
            "press 4 for Exit\n",
            "Enter your choice: 2\n",
            "Enter task number to rmmove: 1\n",
            "0.Lab task 1\n",
            "press 1 for Add task\n",
            "press 2 for Remove task\n",
            "press 3 for Clear task\n",
            "press 4 for Exit\n",
            "Enter your choice: 1\n",
            "Enter your tasklab 2\n",
            "0.Lab task 1\n",
            "1.lab 2\n",
            "press 1 for Add task\n",
            "press 2 for Remove task\n",
            "press 3 for Clear task\n",
            "press 4 for Exit\n",
            "Enter your choice: 1\n",
            "Enter your tasklab 3\n",
            "0.Lab task 1\n",
            "1.lab 2\n",
            "2.lab 3\n",
            "press 1 for Add task\n",
            "press 2 for Remove task\n",
            "press 3 for Clear task\n",
            "press 4 for Exit\n",
            "Enter your choice: 2\n",
            "Enter task number to rmmove: 2\n",
            "0.Lab task 1\n",
            "1.lab 2\n",
            "press 1 for Add task\n",
            "press 2 for Remove task\n",
            "press 3 for Clear task\n",
            "press 4 for Exit\n",
            "Enter your choice: 3\n",
            "You want to cleat all task? yes/no: yes\n",
            "No task in list\n",
            "press 1 for Add task\n",
            "press 2 for Remove task\n",
            "press 3 for Clear task\n",
            "press 4 for Exit\n",
            "Enter your choice: 4\n",
            "Exiting To-do list\n"
          ]
        }
      ],
      "source": [
        "class Todolist:\n",
        "  def __init__(self):\n",
        "    self.task = []\n",
        "\n",
        "  def add_task(self,task):\n",
        "    self.task.append(task)\n",
        "\n",
        "  def remove_task(self,task_index):\n",
        "    if 0 <= task_index < len(self.task):\n",
        "      self.task.pop(task_index)\n",
        "      return True\n",
        "    return False\n",
        "\n",
        "  def clear_task(self):\n",
        "    self.task.clear()\n",
        "\n",
        "  def display_task(self):\n",
        "    if not self.task:\n",
        "      print(\"No task in list\")\n",
        "    else:\n",
        "      for i, task in enumerate(self.task):\n",
        "        print(f\"{i}.{task}\")\n",
        "\n",
        "  def start(self):\n",
        "    while True:\n",
        "      self.display_task()\n",
        "      print(\"press 1 for Add task\")\n",
        "      print(\"press 2 for Remove task\")\n",
        "      print(\"press 3 for Clear task\")\n",
        "      print(\"press 4 for Exit\")\n",
        "\n",
        "      choice = input(\"Enter your choice: \")\n",
        "\n",
        "      if choice == \"1\":\n",
        "        task = input(\"Enter your task\")\n",
        "        self.add_task(task)\n",
        "      elif choice == \"2\":\n",
        "        try:\n",
        "          task_number = int(input(\"Enter task number to rmmove: \"))\n",
        "          if not self.remove_task(task_number):\n",
        "            print(\"incorrect task number\")\n",
        "        except ValueError:\n",
        "          print(\"invalid input. enter a correct number: \")\n",
        "      elif choice == \"3\":\n",
        "        confrim = input(\"You want to cleat all task? yes/no: \")\n",
        "        if confrim.lower() == \"yes\":\n",
        "          self.clear_task()\n",
        "      elif choice == \"4\":\n",
        "        print(\"Exiting To-do list\")\n",
        "        break\n",
        "      else:\n",
        "        print(\"invalid choice, please Try again\")\n",
        "\n",
        "todo_list = Todolist()\n",
        "todo_list.start()"
      ]
    }
  ]
}